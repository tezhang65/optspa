{
 "cells": [
  {
   "cell_type": "code",
   "execution_count": null,
   "id": "f1a7a1b3-3e70-41b2-9f24-8630ace8ce14",
   "metadata": {},
   "outputs": [],
   "source": [
    "import matplotlib.pyplot as plt\n",
    "\n",
    "\n",
    "data = {\"0\": 0.45, \"1\": 0.475, \"2\": 0.475, \"3\": 0.55, \"4\": 0.5, \"5\": 0.525, \"6\": 0.475, \"7\": 0.475}\n",
    "\n",
    "keys = [int(key) + 1 for key in data.keys()]  # 将键转换为整数并加1，以匹配题目要求的Block index 1 to 8\n",
    "values = list(data.values())\n",
    "\n",
    "# 创建折线图\n",
    "plt.figure(figsize=(6, 6))  # 可以调整图形的大小\n",
    "plt.plot(keys, values, marker='o')  # 使用'o'作为标记点\n",
    "\n",
    "# 设置图形的标题和轴标签\n",
    "plt.grid(True)\n",
    "plt.xlabel('Block Index')\n",
    "plt.ylabel('Sparsity Percentage')\n",
    "plt.savefig('sparsity_by_block.png', dpi=300)\n",
    "# 显示图形\n",
    "plt.show()"
   ]
  },
  {
   "cell_type": "code",
   "execution_count": null,
   "id": "45cc6bc1-e1ca-4925-85a3-fafb5f0b3f52",
   "metadata": {},
   "outputs": [],
   "source": []
  }
 ],
 "metadata": {
  "kernelspec": {
   "display_name": "Python 3 (ipykernel)",
   "language": "python",
   "name": "python3"
  },
  "language_info": {
   "codemirror_mode": {
    "name": "ipython",
    "version": 3
   },
   "file_extension": ".py",
   "mimetype": "text/x-python",
   "name": "python",
   "nbconvert_exporter": "python",
   "pygments_lexer": "ipython3",
   "version": "3.8.12"
  }
 },
 "nbformat": 4,
 "nbformat_minor": 5
}
